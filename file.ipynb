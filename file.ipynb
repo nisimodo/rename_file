{
 "cells": [
  {
   "cell_type": "code",
   "execution_count": 54,
   "id": "4a197884",
   "metadata": {},
   "outputs": [],
   "source": [
    "import os\n",
    "from datetime import datetime\n",
    "\n",
    "file_path = \"memo/ユージ.txt\"\n",
    "\n",
    "stat = os.stat(file_path)\n",
    "created_time = stat.st_birthtime\n",
    "created_time = datetime.fromtimestamp(created_time)\n",
    "year = created_time.year\n",
    "month = created_time.month\n",
    "day = created_time.day\n",
    "file_name = file_path.split('/')[1]\n",
    "new_file_name = f\"{year}年{month}月{day}日_{file_name}\"\n",
    "os.rename(file_path, f\"memo/{new_file_name}\")"
   ]
  }
 ],
 "metadata": {
  "kernelspec": {
   "display_name": "venv",
   "language": "python",
   "name": "python3"
  },
  "language_info": {
   "codemirror_mode": {
    "name": "ipython",
    "version": 3
   },
   "file_extension": ".py",
   "mimetype": "text/x-python",
   "name": "python",
   "nbconvert_exporter": "python",
   "pygments_lexer": "ipython3",
   "version": "3.9.6"
  }
 },
 "nbformat": 4,
 "nbformat_minor": 5
}
